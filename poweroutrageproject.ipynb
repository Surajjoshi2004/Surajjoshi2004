{
  "nbformat": 4,
  "nbformat_minor": 0,
  "metadata": {
    "colab": {
      "provenance": [],
      "authorship_tag": "ABX9TyM0U2RVjD0R/sbcrwgQ0Mcp",
      "include_colab_link": true
    },
    "kernelspec": {
      "name": "python3",
      "display_name": "Python 3"
    },
    "language_info": {
      "name": "python"
    }
  },
  "cells": [
    {
      "cell_type": "markdown",
      "metadata": {
        "id": "view-in-github",
        "colab_type": "text"
      },
      "source": [
        "<a href=\"https://colab.research.google.com/github/Surajjoshi2004/Surajjoshi2004/blob/main/poweroutrageproject.ipynb\" target=\"_parent\"><img src=\"https://colab.research.google.com/assets/colab-badge.svg\" alt=\"Open In Colab\"/></a>"
      ]
    },
    {
      "cell_type": "code",
      "execution_count": null,
      "metadata": {
        "id": "yFgwpbyBFGU3"
      },
      "outputs": [],
      "source": [
        "import pandas as pd\n",
        "import numpy as np\n",
        "from sklearn.model_selection import train_test_split\n",
        "from sklearn.ensemble import RandomForestRegressor\n",
        "from sklearn.metrics import mean_absolute_error, mean_squared_error, r2_score\n",
        "from sklearn.preprocessing import MinMaxScaler\n"
      ]
    },
    {
      "cell_type": "code",
      "source": [
        "#Loading our dataset\n",
        "power_df = pd.read_csv(\"power_usage_2016_to_2020.csv\")\n",
        "weather_df = pd.read_csv(\"weather_2016_2020_daily.csv\")\n",
        "\n",
        "print(weather_df.head())\n"
      ],
      "metadata": {
        "colab": {
          "base_uri": "https://localhost:8080/"
        },
        "id": "RzxyIxb8Fd-h",
        "outputId": "4834561d-3af1-4ce7-fa92-4d546e69f7fe"
      },
      "execution_count": null,
      "outputs": [
        {
          "output_type": "stream",
          "name": "stdout",
          "text": [
            "         Date  Day  Temp_max  Temp_avg  Temp_min  Dew_max  Dew_avg  Dew_min  \\\n",
            "0  2016-01-06    1        85      74.8        68       74     71.4       66   \n",
            "1  2016-02-06    2        76      71.2        66       74     70.3       66   \n",
            "2  2016-03-06    3        79      72.1        68       72     70.0       68   \n",
            "3  2016-04-06    4        76      71.2        69       73     70.0       66   \n",
            "4  2016-05-06    5        82      73.8        68       72     70.0       68   \n",
            "\n",
            "   Hum_max  Hum_avg  Hum_min  Wind_max  Wind_avg  Wind_min  Press_max  \\\n",
            "0      100     89.4       65        21       9.5         0       29.8   \n",
            "1      100     96.8       89        18       7.8         0       29.8   \n",
            "2      100     93.6       72        18       4.7         0       29.8   \n",
            "3      100     96.1       85        20       7.0         0       29.8   \n",
            "4      100     88.7       62        17       7.7         0       29.7   \n",
            "\n",
            "   Press_avg  Press_min  Precipit  day_of_week  \n",
            "0       29.8       29.7      0.00            2  \n",
            "1       29.8       29.7      4.33            5  \n",
            "2       29.8       29.7      3.18            6  \n",
            "3       29.7       29.7      2.37            2  \n",
            "4       29.7       29.7      0.39            4  \n"
          ]
        }
      ]
    },
    {
      "cell_type": "code",
      "source": [
        "\n",
        "power_df[\"Date\"] = pd.to_datetime(power_df[\"StartDate\"])\n",
        "weather_df[\"Date\"] = pd.to_datetime(weather_df[\"Date\"])"
      ],
      "metadata": {
        "id": "tlIq8umsF6CA"
      },
      "execution_count": null,
      "outputs": []
    },
    {
      "cell_type": "code",
      "source": [
        "merged_df = pd.merge(power_df, weather_df, on=\"Date\", how=\"inner\")\n",
        "print(merged_df.head)"
      ],
      "metadata": {
        "colab": {
          "base_uri": "https://localhost:8080/"
        },
        "id": "Rpe8mYZXKoGG",
        "outputId": "73265854-b7ce-4c57-e67a-e0123f1124fc"
      },
      "execution_count": null,
      "outputs": [
        {
          "output_type": "stream",
          "name": "stdout",
          "text": [
            "<bound method NDFrame.head of                 StartDate  Value (kWh)  day_of_week_x           notes  \\\n",
            "0     2016-01-06 00:00:00        1.057              2         weekday   \n",
            "1     2016-02-06 00:00:00        1.281              5         weekend   \n",
            "2     2016-03-06 00:00:00        0.736              6         weekend   \n",
            "3     2016-04-06 00:00:00        0.636              2         weekday   \n",
            "4     2016-05-06 00:00:00        1.033              4         weekday   \n",
            "...                   ...          ...            ...             ...   \n",
            "1493  2020-03-07 00:00:00        1.313              5  COVID_lockdown   \n",
            "1494  2020-04-07 00:00:00        0.807              1  COVID_lockdown   \n",
            "1495  2020-05-07 00:00:00        1.804              3  COVID_lockdown   \n",
            "1496  2020-06-07 00:00:00        1.769              6  COVID_lockdown   \n",
            "1497  2020-07-07 00:00:00        1.601              1         weekday   \n",
            "\n",
            "           Date  Day  Temp_max  Temp_avg  Temp_min  Dew_max  ...  Hum_avg  \\\n",
            "0    2016-01-06    1        85      74.8        68       74  ...     89.4   \n",
            "1    2016-02-06    2        76      71.2        66       74  ...     96.8   \n",
            "2    2016-03-06    3        79      72.1        68       72  ...     93.6   \n",
            "3    2016-04-06    4        76      71.2        69       73  ...     96.1   \n",
            "4    2016-05-06    5        82      73.8        68       72  ...     88.7   \n",
            "...         ...  ...       ...       ...       ...      ...  ...      ...   \n",
            "1493 2020-03-07    3        96      84.7        74       76  ...     69.6   \n",
            "1494 2020-04-07    4        97      84.6        73       76  ...     70.5   \n",
            "1495 2020-05-07    5        95      85.4        79       75  ...     69.0   \n",
            "1496 2020-06-07    6        91      85.5        82       77  ...     71.9   \n",
            "1497 2020-07-07    7        93      84.5        80       80  ...     76.6   \n",
            "\n",
            "      Hum_min  Wind_max  Wind_avg  Wind_min  Press_max  Press_avg  Press_min  \\\n",
            "0          65        21       9.5         0       29.8       29.8       29.7   \n",
            "1          89        18       7.8         0       29.8       29.8       29.7   \n",
            "2          72        18       4.7         0       29.8       29.8       29.7   \n",
            "3          85        20       7.0         0       29.8       29.7       29.7   \n",
            "4          62        17       7.7         0       29.7       29.7       29.7   \n",
            "...       ...       ...       ...       ...        ...        ...        ...   \n",
            "1493       38        24       6.3         0       29.9       29.9       29.8   \n",
            "1494       43        10       3.6         0       29.9       29.8       29.7   \n",
            "1495       44        12       6.2         0       29.8       29.7       29.7   \n",
            "1496       59        10       6.0         0       29.8       29.8       29.7   \n",
            "1497       53        15       6.1         0       29.9       29.8       29.8   \n",
            "\n",
            "      Precipit  day_of_week_y  \n",
            "0         0.00              2  \n",
            "1         4.33              5  \n",
            "2         3.18              6  \n",
            "3         2.37              2  \n",
            "4         0.39              4  \n",
            "...        ...            ...  \n",
            "1493      0.00              5  \n",
            "1494      0.00              1  \n",
            "1495      0.00              3  \n",
            "1496      0.00              6  \n",
            "1497      0.00              1  \n",
            "\n",
            "[1498 rows x 23 columns]>\n"
          ]
        }
      ]
    },
    {
      "cell_type": "code",
      "source": [
        "merged_df.ffill(inplace=True)"
      ],
      "metadata": {
        "id": "zItonoe7OSeV"
      },
      "execution_count": null,
      "outputs": []
    },
    {
      "cell_type": "code",
      "source": [
        "merged_df[\"Hour\"] = merged_df[\"Date\"].dt.hour\n",
        "merged_df[\"Day\"] = merged_df[\"Date\"].dt.day\n",
        "merged_df[\"Month\"] = merged_df[\"Date\"].dt.month\n",
        "merged_df[\"Year\"] = merged_df[\"Date\"].dt.year\n",
        "merged_df[\"Weekday\"] = merged_df[\"Date\"].dt.weekday"
      ],
      "metadata": {
        "id": "1vCCgz8_PEcS"
      },
      "execution_count": null,
      "outputs": []
    },
    {
      "cell_type": "code",
      "source": [
        "merged_df[\"Power_Lag_1\"] = merged_df[\"Value (kWh)\"].shift(1)\n",
        "merged_df[\"Power_Lag_24\"] = merged_df[\"Value (kWh)\"].shift(24)\n",
        "merged_df[\"Power_Lag_168\"] = merged_df[\"Value (kWh)\"].shift(168)  # 7 days\n",
        "\n",
        "# Fill NaN values from shifting with previous values\n",
        "merged_df.bfill(inplace=True)"
      ],
      "metadata": {
        "id": "llsFCcqYPHNM"
      },
      "execution_count": null,
      "outputs": []
    },
    {
      "cell_type": "code",
      "source": [
        "merged_df[\"Rolling_Mean\"] = merged_df[\"Value (kWh)\"].rolling(window=24, min_periods=1).mean()\n",
        "merged_df[\"Outage\"] = np.where(merged_df[\"Value (kWh)\"] < 0.1 * merged_df[\"Rolling_Mean\"], 1, 0)"
      ],
      "metadata": {
        "id": "yBy9wO1EPXW4"
      },
      "execution_count": null,
      "outputs": []
    },
    {
      "cell_type": "code",
      "source": [
        "from sklearn.model_selection import train_test_split\n",
        "from sklearn.ensemble import RandomForestClassifier\n",
        "from sklearn.metrics import accuracy_score, classification_report\n",
        "\n",
        "# Ensure correct feature names\n",
        "features = [\"Value (kWh)\", \"Temp_avg\", \"Hum_avg\", \"Wind_avg\",\n",
        "            \"Power_Lag_1\", \"Power_Lag_24\", \"Power_Lag_168\", \"Hour\", \"Day\", \"Month\", \"Weekday\"]\n",
        "\n",
        "target = \"Outage\"\n",
        "\n",
        "# Check if target column exists, otherwise create it\n",
        "if target not in merged_df.columns:\n",
        "    merged_df[target] = (merged_df[\"Value (kWh)\"] < merged_df[\"Value (kWh)\"].quantile(0.05)).astype(int)\n",
        "\n",
        "# Handle missing values\n",
        "merged_df.ffill(inplace=True)\n",
        "merged_df.bfill(inplace=True)\n",
        "\n",
        "# Select features and target variable\n",
        "X = merged_df[features]\n",
        "y = merged_df[target]\n",
        "\n",
        "# Split data into train and test sets\n",
        "\n",
        "\n",
        "X_train, X_test, y_train, y_test = train_test_split(X, y, test_size=0.2, stratify=y, random_state=42)\n",
        "\n",
        "# Train a Random Forest Classifier\n",
        "model = RandomForestClassifier(n_estimators=200, random_state=42, max_depth=10)\n",
        "model.fit(X_train, y_train)\n",
        "\n",
        "# Make predictions\n",
        "y_pred = model.predict(X_test)\n",
        "\n",
        "# Evaluate the model\n",
        "print(\"Accuracy:\", accuracy_score(y_test, y_pred))\n",
        "print(classification_report(y_test, y_pred))\n"
      ],
      "metadata": {
        "colab": {
          "base_uri": "https://localhost:8080/"
        },
        "id": "So-9xrQ4Pa3I",
        "outputId": "7466b5ea-667a-4978-935f-0589c4d5394e"
      },
      "execution_count": null,
      "outputs": [
        {
          "output_type": "stream",
          "name": "stdout",
          "text": [
            "Accuracy: 1.0\n",
            "              precision    recall  f1-score   support\n",
            "\n",
            "           0       1.00      1.00      1.00       300\n",
            "\n",
            "    accuracy                           1.00       300\n",
            "   macro avg       1.00      1.00      1.00       300\n",
            "weighted avg       1.00      1.00      1.00       300\n",
            "\n"
          ]
        }
      ]
    },
    {
      "cell_type": "code",
      "source": [
        "print(weather_df.columns)\n"
      ],
      "metadata": {
        "colab": {
          "base_uri": "https://localhost:8080/"
        },
        "id": "s7E8Yt6lPsPC",
        "outputId": "2cd07b2a-c9c8-46e5-9ebb-d8a501132196"
      },
      "execution_count": null,
      "outputs": [
        {
          "output_type": "stream",
          "name": "stdout",
          "text": [
            "Index(['Date', 'Day', 'Temp_max', 'Temp_avg', 'Temp_min', 'Dew_max', 'Dew_avg',\n",
            "       'Dew_min', 'Hum_max', 'Hum_avg', 'Hum_min', 'Wind_max', 'Wind_avg',\n",
            "       'Wind_min', 'Press_max', 'Press_avg', 'Press_min', 'Precipit',\n",
            "       'day_of_week'],\n",
            "      dtype='object')\n"
          ]
        }
      ]
    },
    {
      "cell_type": "code",
      "source": [
        "y_train.value_counts()\n"
      ],
      "metadata": {
        "colab": {
          "base_uri": "https://localhost:8080/",
          "height": 147
        },
        "id": "MD2il-BAQlKL",
        "outputId": "f035f191-2313-44ce-ee74-06970c03519f"
      },
      "execution_count": null,
      "outputs": [
        {
          "output_type": "execute_result",
          "data": {
            "text/plain": [
              "Outage\n",
              "0    1198\n",
              "Name: count, dtype: int64"
            ],
            "text/html": [
              "<div>\n",
              "<style scoped>\n",
              "    .dataframe tbody tr th:only-of-type {\n",
              "        vertical-align: middle;\n",
              "    }\n",
              "\n",
              "    .dataframe tbody tr th {\n",
              "        vertical-align: top;\n",
              "    }\n",
              "\n",
              "    .dataframe thead th {\n",
              "        text-align: right;\n",
              "    }\n",
              "</style>\n",
              "<table border=\"1\" class=\"dataframe\">\n",
              "  <thead>\n",
              "    <tr style=\"text-align: right;\">\n",
              "      <th></th>\n",
              "      <th>count</th>\n",
              "    </tr>\n",
              "    <tr>\n",
              "      <th>Outage</th>\n",
              "      <th></th>\n",
              "    </tr>\n",
              "  </thead>\n",
              "  <tbody>\n",
              "    <tr>\n",
              "      <th>0</th>\n",
              "      <td>1198</td>\n",
              "    </tr>\n",
              "  </tbody>\n",
              "</table>\n",
              "</div><br><label><b>dtype:</b> int64</label>"
            ]
          },
          "metadata": {},
          "execution_count": 85
        }
      ]
    },
    {
      "cell_type": "markdown",
      "source": [],
      "metadata": {
        "id": "IcAd0VvIQjDD"
      }
    },
    {
      "cell_type": "code",
      "source": [
        "import matplotlib.pyplot as plt\n",
        "import numpy as np\n",
        "\n",
        "# Select a subset of data for better visualization\n",
        "sample_size = 100  # Adjust based on data size\n",
        "indices = np.random.choice(len(y_test), sample_size, replace=False)\n",
        "\n",
        "plt.figure(figsize=(12, 6))\n",
        "plt.plot(indices, y_test.iloc[indices], \"ro\", label=\"Actual Outages\", alpha=0.7)  # Red dots for actual\n",
        "plt.plot(indices, y_pred[indices], \"bs\", label=\"Predicted Outages\", alpha=0.7)  # Blue squares for predicted\n",
        "\n",
        "plt.xlabel(\"Sample Index\")\n",
        "plt.ylabel(\"Outage (0 or 1)\")\n",
        "plt.title(\"Predicted vs Actual Power Outages\")\n",
        "plt.legend()\n",
        "plt.grid(True)\n",
        "plt.show()"
      ],
      "metadata": {
        "colab": {
          "base_uri": "https://localhost:8080/",
          "height": 564
        },
        "id": "zJDgeLumQWGi",
        "outputId": "b2214650-38cb-4222-dbf1-632ef46d4783"
      },
      "execution_count": null,
      "outputs": [
        {
          "output_type": "display_data",
          "data": {
            "text/plain": [
              "<Figure size 1200x600 with 1 Axes>"
            ],
            "image/png": "[encoded data removed]"
          },
          "metadata": {}
        }
      ]
    },
    {
      "cell_type": "code",
      "source": [
        "import numpy as np\n",
        "\n",
        "print(\"Actual values distribution:\")\n",
        "print(np.unique(y_test, return_counts=True))\n",
        "\n",
        "print(\"\\nPredicted values distribution:\")\n",
        "print(np.unique(y_pred, return_counts=True))"
      ],
      "metadata": {
        "colab": {
          "base_uri": "https://localhost:8080/"
        },
        "id": "RVM2RwmvQ-aN",
        "outputId": "6b5a5678-7a08-4239-e8c0-cecbe675bc9c"
      },
      "execution_count": null,
      "outputs": [
        {
          "output_type": "stream",
          "name": "stdout",
          "text": [
            "Actual values distribution:\n",
            "(array([0]), array([300]))\n",
            "\n",
            "Predicted values distribution:\n",
            "(array([0]), array([300]))\n"
          ]
        }
      ]
    },
    {
      "cell_type": "markdown",
      "source": [],
      "metadata": {
        "id": "pNbjs1L3OzBb"
      }
    }
  ]
}